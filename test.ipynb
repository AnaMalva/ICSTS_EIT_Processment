{
 "cells": [
  {
   "cell_type": "markdown",
   "metadata": {},
   "source": [
    "## Libraries"
   ]
  },
  {
   "cell_type": "code",
   "execution_count": 1,
   "metadata": {},
   "outputs": [],
   "source": [
    "import cv2\n",
    "import numpy as np\n",
    "import os\n",
    "from glob import glob\n",
    "import matplotlib.pyplot as plt\n",
    "from PIL import Image\n",
    "import scipy\n",
    "from scipy.ndimage import gaussian_filter1d\n"
   ]
  },
  {
   "cell_type": "markdown",
   "metadata": {},
   "source": [
    "## Open Image"
   ]
  },
  {
   "cell_type": "code",
   "execution_count": 2,
   "metadata": {},
   "outputs": [],
   "source": [
    "path=\"C:/Users/anama/OneDrive/Ambiente de Trabalho/UNI/Semestre2/ICSTS/Task3/ICSTS_EIT_Processment/set_01/trial_01/frame_004.png\"\n",
    "# Read image \n",
    "image = cv2.imread(path)"
   ]
  },
  {
   "cell_type": "markdown",
   "metadata": {},
   "source": [
    "## RoI Selection"
   ]
  },
  {
   "cell_type": "code",
   "execution_count": 30,
   "metadata": {},
   "outputs": [],
   "source": [
    "# Select left lung ROI manually\n",
    "r_left=cv2.selectROI(\"select the area left\", image) # After selecting inted region press enter\n",
    "cv2.destroyWindow(\"select the area left\")"
   ]
  },
  {
   "cell_type": "code",
   "execution_count": 3,
   "metadata": {},
   "outputs": [],
   "source": [
    "r_left=220, 169, 194, 339"
   ]
  },
  {
   "cell_type": "code",
   "execution_count": 22,
   "metadata": {},
   "outputs": [],
   "source": [
    "# Select left lung ROI manually\n",
    "r_right=cv2.selectROI(\"select the area right\", image) # After selecting inted region press enter\n",
    "cv2.destroyWindow(\"select the area right\")"
   ]
  },
  {
   "cell_type": "code",
   "execution_count": 4,
   "metadata": {},
   "outputs": [],
   "source": [
    "r_right=498, 169, 194, 339"
   ]
  },
  {
   "cell_type": "code",
   "execution_count": 38,
   "metadata": {},
   "outputs": [
    {
     "data": {
      "text/plain": [
       "array([[[255, 255, 255],\n",
       "        [255, 255, 255],\n",
       "        [255, 255, 255],\n",
       "        ...,\n",
       "        [255, 255, 255],\n",
       "        [255, 255, 255],\n",
       "        [255, 255, 255]],\n",
       "\n",
       "       [[255, 255, 255],\n",
       "        [255, 255, 255],\n",
       "        [255, 255, 255],\n",
       "        ...,\n",
       "        [255, 255, 255],\n",
       "        [255, 255, 255],\n",
       "        [255, 255, 255]],\n",
       "\n",
       "       [[255, 255, 255],\n",
       "        [255, 255, 255],\n",
       "        [255, 255, 255],\n",
       "        ...,\n",
       "        [255, 255, 255],\n",
       "        [255, 255, 255],\n",
       "        [255, 255, 255]],\n",
       "\n",
       "       ...,\n",
       "\n",
       "       [[255, 255, 255],\n",
       "        [255, 255, 255],\n",
       "        [255, 255, 255],\n",
       "        ...,\n",
       "        [255, 255, 255],\n",
       "        [255, 255, 255],\n",
       "        [255, 255, 255]],\n",
       "\n",
       "       [[255, 255, 255],\n",
       "        [255, 255, 255],\n",
       "        [255, 255, 255],\n",
       "        ...,\n",
       "        [255, 255, 255],\n",
       "        [255, 255, 255],\n",
       "        [255, 255, 255]],\n",
       "\n",
       "       [[255, 255, 255],\n",
       "        [255, 255, 255],\n",
       "        [255, 255, 255],\n",
       "        ...,\n",
       "        [255, 255, 255],\n",
       "        [255, 255, 255],\n",
       "        [255, 255, 255]]], dtype=uint8)"
      ]
     },
     "execution_count": 38,
     "metadata": {},
     "output_type": "execute_result"
    }
   ],
   "source": [
    "# Draw rectangle on the original image\n",
    "r=r_left\n",
    "image_with_roi = image.copy()\n",
    "cv2.rectangle(image_with_roi, (r[0], r[1]), (r[0] + r[2], r[1] + r[3]), (0, 0, 255), 2)  # Red rectangle"
   ]
  },
  {
   "cell_type": "code",
   "execution_count": 40,
   "metadata": {},
   "outputs": [],
   "source": [
    "# Show the ROI (optional)\n",
    "cv2.imshow(\"Image with ROI\", image_with_roi)\n",
    "cv2.waitKey(0)\n",
    "cv2.destroyWindow(\"Image with ROI\")"
   ]
  },
  {
   "cell_type": "markdown",
   "metadata": {},
   "source": [
    "## Apply RoI to all images"
   ]
  },
  {
   "cell_type": "code",
   "execution_count": 5,
   "metadata": {},
   "outputs": [],
   "source": [
    "# Open all images from trial 1\n",
    "image_files = sorted(glob('C:/Users/anama/OneDrive/Ambiente de Trabalho/UNI/Semestre2/ICSTS/Task3/ICSTS_EIT_Processment/set_01/trial_01/*.png'))  # Sort to preserve time order"
   ]
  },
  {
   "cell_type": "code",
   "execution_count": 7,
   "metadata": {},
   "outputs": [],
   "source": [
    "\n",
    "# Set example image\n",
    "r=r_left\n",
    "\n",
    "image = Image.open(image_files[0])\n",
    "image_np = np.array(image)\n",
    "sample_image= image_np[int(r[1]):int(r[1]+r[3]),int(r[0]):int(r[0]+r[2])] \n",
    "\n",
    "# Example shape from first image\n",
    "sample_array = np.array(sample_image)\n",
    "height, width, channels = sample_array.shape  # assuming RGB\n",
    "\n",
    "# Preallocate image array (e.g., N images × H × W × C)\n",
    "image_array = np.zeros((len(image_files), height, width, channels), dtype=np.uint8)\n"
   ]
  },
  {
   "cell_type": "code",
   "execution_count": 8,
   "metadata": {},
   "outputs": [],
   "source": [
    "\n",
    "for image_num in range(len(image_files)):\n",
    "    image = Image.open(image_files[image_num])\n",
    "    image_np = np.array(image)\n",
    "    image= image_np[int(r[1]):int(r[1]+r[3]),int(r[0]):int(r[0]+r[2])] \n",
    "\n",
    "    image_array[image_num]=image"
   ]
  },
  {
   "cell_type": "code",
   "execution_count": 9,
   "metadata": {},
   "outputs": [],
   "source": [
    "cv2.imshow(\"Image\", image_array[40])\n",
    "cv2.waitKey(0)\n",
    "cv2.destroyWindow(\"Image\")"
   ]
  },
  {
   "cell_type": "markdown",
   "metadata": {},
   "source": [
    "## Get EIT Impedance waveform"
   ]
  },
  {
   "cell_type": "code",
   "execution_count": 10,
   "metadata": {},
   "outputs": [],
   "source": [
    "impedance_means = []\n",
    "\n",
    "for image in image_array:\n",
    "    \n",
    "    # Convert to grayscale if needed, or to HSV to isolate intensity\n",
    "    hsv = cv2.cvtColor(image, cv2.COLOR_BGR2HSV)\n",
    "    intensity = hsv[:, :, 2]  # Value channel often correlates with impedance\n",
    "\n",
    "    # Optional: mask out black background using threshold\n",
    "    mask = intensity > 30  # tune threshold depending on your images\n",
    "    valid_pixels = intensity[mask]\n",
    "\n",
    "    # Compute variance of pixel values (impedance variance estimate)\n",
    "    mean_intensity = np.mean(valid_pixels)\n",
    "    impedance_means.append(mean_intensity)"
   ]
  },
  {
   "cell_type": "code",
   "execution_count": 12,
   "metadata": {},
   "outputs": [],
   "source": [
    "# Convert to NumPy array for easy slicing\n",
    "impedance_means = np.array(impedance_means)\n",
    "\n",
    "# Number of images per second\n",
    "fps = 33\n",
    "\n",
    "# Number of full seconds in the data\n",
    "num_seconds = len(impedance_means) // fps\n",
    "\n",
    "# Reshape and compute mean over each second\n",
    "impedance_1hz = impedance_means[:num_seconds * fps].reshape(num_seconds, fps).mean(axis=1)"
   ]
  },
  {
   "cell_type": "code",
   "execution_count": 13,
   "metadata": {},
   "outputs": [],
   "source": [
    "impedance_means = np.array(impedance_1hz)\n",
    "baseline = np.min(impedance_1hz)\n",
    "normalized_signal = (impedance_1hz - np.mean(impedance_1hz)) / np.std(impedance_1hz)"
   ]
  },
  {
   "cell_type": "code",
   "execution_count": 14,
   "metadata": {},
   "outputs": [],
   "source": [
    "smoothed_signal = gaussian_filter1d(normalized_signal, sigma=2)"
   ]
  },
  {
   "cell_type": "code",
   "execution_count": 15,
   "metadata": {},
   "outputs": [
    {
     "data": {
      "image/png": "[encoded data removed]",
      "text/plain": [
       "<Figure size 640x480 with 1 Axes>"
      ]
     },
     "metadata": {},
     "output_type": "display_data"
    }
   ],
   "source": [
    "plt.plot(smoothed_signal)\n",
    "plt.title(\"EIT Impedance Waveform\")\n",
    "plt.xlabel(\"Time\")\n",
    "plt.ylabel(\"ΔZ (A.U.)\")\n",
    "plt.grid(True)\n",
    "plt.show()"
   ]
  },
  {
   "cell_type": "markdown",
   "metadata": {},
   "source": [
    "## Lung Similarity Study"
   ]
  },
  {
   "cell_type": "markdown",
   "metadata": {},
   "source": [
    "Peak and Troughs Detection"
   ]
  },
  {
   "cell_type": "code",
   "execution_count": 16,
   "metadata": {},
   "outputs": [
    {
     "data": {
      "text/plain": [
       "array([ 6, 13, 20, 30])"
      ]
     },
     "execution_count": 16,
     "metadata": {},
     "output_type": "execute_result"
    }
   ],
   "source": [
    "# Peaks represent Experation\n",
    "expiration_time=scipy.signal.find_peaks(smoothed_signal)[0]\n",
    "expiration_time\n"
   ]
  },
  {
   "cell_type": "code",
   "execution_count": 24,
   "metadata": {},
   "outputs": [
    {
     "data": {
      "text/plain": [
       "array([ 4,  8, 18, 25, 37])"
      ]
     },
     "execution_count": 24,
     "metadata": {},
     "output_type": "execute_result"
    }
   ],
   "source": [
    "# Throughs represent Inspiration\n",
    "inspiration_time=scipy.signal.find_peaks(-smoothed_signal)[0]\n",
    "inspiration_time"
   ]
  },
  {
   "cell_type": "markdown",
   "metadata": {},
   "source": [
    "Select Correct Frames"
   ]
  },
  {
   "cell_type": "code",
   "execution_count": 18,
   "metadata": {},
   "outputs": [
    {
     "data": {
      "text/plain": [
       "array([198, 429, 660, 990])"
      ]
     },
     "execution_count": 18,
     "metadata": {},
     "output_type": "execute_result"
    }
   ],
   "source": [
    "# Calculate which frames correspond to experation\n",
    "expiration_frames=expiration_time*33\n",
    "expiration_frames"
   ]
  },
  {
   "cell_type": "code",
   "execution_count": 25,
   "metadata": {},
   "outputs": [
    {
     "data": {
      "text/plain": [
       "array([ 132,  264,  594,  825, 1221])"
      ]
     },
     "execution_count": 25,
     "metadata": {},
     "output_type": "execute_result"
    }
   ],
   "source": [
    "# Calculate which frames correspond to experation\n",
    "inspiration_frames=inspiration_time*33\n",
    "inspiration_frames"
   ]
  },
  {
   "cell_type": "markdown",
   "metadata": {},
   "source": [
    "Calculate impedance values in the given frames"
   ]
  },
  {
   "cell_type": "code",
   "execution_count": 20,
   "metadata": {},
   "outputs": [
    {
     "data": {
      "text/plain": [
       "(498, 169, 194, 339)"
      ]
     },
     "execution_count": 20,
     "metadata": {},
     "output_type": "execute_result"
    }
   ],
   "source": [
    "r_right"
   ]
  },
  {
   "cell_type": "code",
   "execution_count": 21,
   "metadata": {},
   "outputs": [
    {
     "data": {
      "text/plain": [
       "(220, 169, 194, 339)"
      ]
     },
     "execution_count": 21,
     "metadata": {},
     "output_type": "execute_result"
    }
   ],
   "source": [
    "r_left"
   ]
  },
  {
   "cell_type": "code",
   "execution_count": 22,
   "metadata": {},
   "outputs": [
    {
     "data": {
      "text/plain": [
       "array([ 5.35128358, 16.31611426, 23.18775711,  2.34432932])"
      ]
     },
     "execution_count": 22,
     "metadata": {},
     "output_type": "execute_result"
    }
   ],
   "source": [
    "diff_expiration=np.zeros(len(expiration_frames))\n",
    "\n",
    "i=0\n",
    "\n",
    "for frame in expiration_frames:\n",
    "\n",
    "    image = Image.open(image_files[frame])\n",
    "    image_np = np.array(image)\n",
    "\n",
    "    studied_frame_right=image_np[int(r_right[1]):int(r_right[1]+r_right[3]),int(r_right[0]):int(r_right[0]+r[2])] \n",
    "    studied_frame_left=image_np[int(r_left[1]):int(r_left[1]+r_left[3]),int(r_left[0]):int(r_left[0]+r_left[2])] \n",
    "\n",
    "    hsv_right = cv2.cvtColor(studied_frame_right, cv2.COLOR_BGR2HSV)\n",
    "    intensity_right = hsv_right[:, :, 2] \n",
    "    hsv_left = cv2.cvtColor(studied_frame_left, cv2.COLOR_BGR2HSV)\n",
    "    intensity_left = hsv_left[:, :, 2] \n",
    "\n",
    "    mask = intensity_right > 30\n",
    "    valid_pixels_right = intensity_right[mask]\n",
    "    mask = intensity_left > 30 \n",
    "    valid_pixels_left = intensity_left[mask]\n",
    "\n",
    "    mean_intensity_right = np.mean(valid_pixels_right)\n",
    "    mean_intensity_left = np.mean(valid_pixels_left)\n",
    "\n",
    "    diff_expiration[i]=abs(mean_intensity_right-mean_intensity_left)\n",
    "\n",
    "    i+=1\n",
    "\n",
    "diff_expiration   "
   ]
  },
  {
   "cell_type": "code",
   "execution_count": 26,
   "metadata": {},
   "outputs": [
    {
     "data": {
      "text/plain": [
       "array([11.59757567, 16.10239603, 17.69614988,  4.44777828, 29.44321928])"
      ]
     },
     "execution_count": 26,
     "metadata": {},
     "output_type": "execute_result"
    }
   ],
   "source": [
    "diff_inspiration=np.zeros(len(inspiration_frames))\n",
    "\n",
    "i=0\n",
    "\n",
    "for frame in inspiration_frames:\n",
    "\n",
    "    image = Image.open(image_files[frame])\n",
    "    image_np = np.array(image)\n",
    "\n",
    "    studied_frame_right=image_np[int(r_right[1]):int(r_right[1]+r_right[3]),int(r_right[0]):int(r_right[0]+r[2])] \n",
    "    studied_frame_left=image_np[int(r_left[1]):int(r_left[1]+r_left[3]),int(r_left[0]):int(r_left[0]+r_left[2])] \n",
    "\n",
    "    hsv_right = cv2.cvtColor(studied_frame_right, cv2.COLOR_BGR2HSV)\n",
    "    intensity_right = hsv_right[:, :, 2] \n",
    "    hsv_left = cv2.cvtColor(studied_frame_left, cv2.COLOR_BGR2HSV)\n",
    "    intensity_left = hsv_left[:, :, 2] \n",
    "\n",
    "    mask = intensity_right > 30\n",
    "    valid_pixels_right = intensity_right[mask]\n",
    "    mask = intensity_left > 30 \n",
    "    valid_pixels_left = intensity_left[mask]\n",
    "\n",
    "    mean_intensity_right = np.mean(valid_pixels_right)\n",
    "    mean_intensity_left = np.mean(valid_pixels_left)\n",
    "\n",
    "    diff_inspiration[i]=abs(mean_intensity_right-mean_intensity_left)\n",
    "\n",
    "    i+=1\n",
    "\n",
    "diff_inspiration "
   ]
  }
 ],
 "metadata": {
  "kernelspec": {
   "display_name": "ICSTSenv",
   "language": "python",
   "name": "python3"
  },
  "language_info": {
   "codemirror_mode": {
    "name": "ipython",
    "version": 3
   },
   "file_extension": ".py",
   "mimetype": "text/x-python",
   "name": "python",
   "nbconvert_exporter": "python",
   "pygments_lexer": "ipython3",
   "version": "3.9.21"
  }
 },
 "nbformat": 4,
 "nbformat_minor": 2
}
