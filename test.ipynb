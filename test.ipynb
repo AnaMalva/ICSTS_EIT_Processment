{
 "cells": [
  {
   "cell_type": "markdown",
   "metadata": {},
   "source": [
    "## Libraries"
   ]
  },
  {
   "cell_type": "code",
   "execution_count": 27,
   "metadata": {},
   "outputs": [],
   "source": [
    "import cv2\n",
    "import numpy as np\n",
    "import os\n",
    "from glob import glob\n",
    "import matplotlib.pyplot as plt\n",
    "from PIL import Image\n",
    "import scipy\n",
    "from scipy.ndimage import gaussian_filter1d\n",
    "from matplotlib.path import Path\n"
   ]
  },
  {
   "cell_type": "markdown",
   "metadata": {},
   "source": [
    "## Defining what trial and set we are studying"
   ]
  },
  {
   "cell_type": "code",
   "execution_count": 28,
   "metadata": {},
   "outputs": [],
   "source": [
    "set=1\n",
    "trial=2"
   ]
  },
  {
   "cell_type": "markdown",
   "metadata": {},
   "source": [
    "## Open Image"
   ]
  },
  {
   "cell_type": "code",
   "execution_count": 29,
   "metadata": {},
   "outputs": [],
   "source": [
    "path=\"C:/Users/anama/OneDrive/Ambiente de Trabalho/UNI/Semestre2/ICSTS/Task3/ICSTS_EIT_Processment/set_0\"+str(set)+\"/trial_0\"+str(trial)+\"/frame_004.png\"\n",
    "# Read image \n",
    "image = cv2.imread(path)"
   ]
  },
  {
   "cell_type": "markdown",
   "metadata": {},
   "source": [
    "## RoI Selection"
   ]
  },
  {
   "cell_type": "code",
   "execution_count": 30,
   "metadata": {},
   "outputs": [],
   "source": [
    "# Select left lung ROI manually\n",
    "r_left=cv2.selectROI(\"select the area left\", image) # After selecting inted region press enter\n",
    "cv2.destroyWindow(\"select the area left\")"
   ]
  },
  {
   "cell_type": "code",
   "execution_count": 31,
   "metadata": {},
   "outputs": [],
   "source": [
    "r_left=220, 169, 194, 339"
   ]
  },
  {
   "cell_type": "code",
   "execution_count": null,
   "metadata": {},
   "outputs": [],
   "source": [
    "# Select left lung ROI manually\n",
    "r_right=cv2.selectROI(\"select the area right\", image) # After selecting inted region press enter\n",
    "cv2.destroyWindow(\"select the area right\")\n"
   ]
  },
  {
   "cell_type": "code",
   "execution_count": 32,
   "metadata": {},
   "outputs": [],
   "source": [
    "r_right=498, 169, 194, 339"
   ]
  },
  {
   "cell_type": "code",
   "execution_count": 33,
   "metadata": {},
   "outputs": [
    {
     "data": {
      "text/plain": [
       "array([[[255, 255, 255],\n",
       "        [255, 255, 255],\n",
       "        [255, 255, 255],\n",
       "        ...,\n",
       "        [255, 255, 255],\n",
       "        [255, 255, 255],\n",
       "        [255, 255, 255]],\n",
       "\n",
       "       [[255, 255, 255],\n",
       "        [255, 255, 255],\n",
       "        [255, 255, 255],\n",
       "        ...,\n",
       "        [255, 255, 255],\n",
       "        [255, 255, 255],\n",
       "        [255, 255, 255]],\n",
       "\n",
       "       [[255, 255, 255],\n",
       "        [255, 255, 255],\n",
       "        [255, 255, 255],\n",
       "        ...,\n",
       "        [255, 255, 255],\n",
       "        [255, 255, 255],\n",
       "        [255, 255, 255]],\n",
       "\n",
       "       ...,\n",
       "\n",
       "       [[255, 255, 255],\n",
       "        [255, 255, 255],\n",
       "        [255, 255, 255],\n",
       "        ...,\n",
       "        [255, 255, 255],\n",
       "        [255, 255, 255],\n",
       "        [255, 255, 255]],\n",
       "\n",
       "       [[255, 255, 255],\n",
       "        [255, 255, 255],\n",
       "        [255, 255, 255],\n",
       "        ...,\n",
       "        [255, 255, 255],\n",
       "        [255, 255, 255],\n",
       "        [255, 255, 255]],\n",
       "\n",
       "       [[255, 255, 255],\n",
       "        [255, 255, 255],\n",
       "        [255, 255, 255],\n",
       "        ...,\n",
       "        [255, 255, 255],\n",
       "        [255, 255, 255],\n",
       "        [255, 255, 255]]], dtype=uint8)"
      ]
     },
     "execution_count": 33,
     "metadata": {},
     "output_type": "execute_result"
    }
   ],
   "source": [
    "# Draw rectangle on the original image\n",
    "r=r_left\n",
    "image_with_roi = image.copy()\n",
    "cv2.rectangle(image_with_roi, (r[0], r[1]), (r[0] + r[2], r[1] + r[3]), (0, 0, 255), 2)  # Red rectangle"
   ]
  },
  {
   "cell_type": "code",
   "execution_count": 34,
   "metadata": {},
   "outputs": [],
   "source": [
    "# Show the ROI (optional)\n",
    "cv2.imshow(\"Image with ROI\", image_with_roi)\n",
    "cv2.waitKey(0)\n",
    "cv2.destroyWindow(\"Image with ROI\")"
   ]
  },
  {
   "cell_type": "markdown",
   "metadata": {},
   "source": [
    "## Apply RoI to all images"
   ]
  },
  {
   "cell_type": "code",
   "execution_count": 35,
   "metadata": {},
   "outputs": [],
   "source": [
    "# Open all images from trial 1\n",
    "image_files = sorted(glob(\"C:/Users/anama/OneDrive/Ambiente de Trabalho/UNI/Semestre2/ICSTS/Task3/ICSTS_EIT_Processment/set_0\"+str(set)+\"/trial_0\"+str(trial)+'/*.png'))  # Sort to preserve time order"
   ]
  },
  {
   "cell_type": "code",
   "execution_count": 36,
   "metadata": {},
   "outputs": [],
   "source": [
    "# Set example image\n",
    "r=r_left\n",
    "\n",
    "image = Image.open(image_files[0])\n",
    "image_np = np.array(image)\n",
    "sample_image= image_np[int(r[1]):int(r[1]+r[3]),int(r[0]):int(r[0]+r[2])] \n",
    "\n",
    "# Example shape from first image\n",
    "sample_array = np.array(sample_image)\n",
    "height, width, channels = sample_array.shape  # assuming RGB\n",
    "\n",
    "# Preallocate image array (e.g., N images × H × W × C)\n",
    "image_array = np.zeros((len(image_files), height, width, channels), dtype=np.uint8)\n"
   ]
  },
  {
   "cell_type": "code",
   "execution_count": 37,
   "metadata": {},
   "outputs": [],
   "source": [
    "for image_num in range(len(image_files)):\n",
    "    image = Image.open(image_files[image_num])\n",
    "    image_np = np.array(image)\n",
    "    image= image_np[int(r[1]):int(r[1]+r[3]),int(r[0]):int(r[0]+r[2])] \n",
    "\n",
    "    image_array[image_num]=image"
   ]
  },
  {
   "cell_type": "code",
   "execution_count": 38,
   "metadata": {},
   "outputs": [],
   "source": [
    "cv2.imshow(\"Image\", image_array[40])\n",
    "cv2.waitKey(0)\n",
    "cv2.destroyWindow(\"Image\")"
   ]
  },
  {
   "cell_type": "markdown",
   "metadata": {},
   "source": [
    "## Get EIT Impedance waveform"
   ]
  },
  {
   "cell_type": "code",
   "execution_count": 39,
   "metadata": {},
   "outputs": [],
   "source": [
    "impedance_means = []\n",
    "\n",
    "for image in image_array:\n",
    "    \n",
    "    # Convert to grayscale if needed, or to HSV to isolate intensity\n",
    "    hsv = cv2.cvtColor(image, cv2.COLOR_BGR2HSV)\n",
    "    intensity = hsv[:, :, 2]  # Value channel often correlates with impedance\n",
    "\n",
    "    # Compute variance of pixel values (impedance variance estimate)\n",
    "    mean_intensity = np.mean(intensity)\n",
    "    impedance_means.append(mean_intensity)"
   ]
  },
  {
   "cell_type": "code",
   "execution_count": 40,
   "metadata": {},
   "outputs": [],
   "source": [
    "# Convert to NumPy array for easy slicing\n",
    "impedance_means = np.array(impedance_means)\n",
    "\n",
    "# Number of images per second\n",
    "fps = 33\n",
    "\n",
    "# Number of full seconds in the data\n",
    "num_seconds = len(impedance_means) // fps\n",
    "\n",
    "# Reshape and compute mean over each second\n",
    "impedance_1hz = impedance_means[:num_seconds * fps].reshape(num_seconds, fps).mean(axis=1)"
   ]
  },
  {
   "cell_type": "code",
   "execution_count": 41,
   "metadata": {},
   "outputs": [],
   "source": [
    "impedance_means = np.array(impedance_1hz)\n",
    "baseline = np.min(impedance_1hz)\n",
    "normalized_signal = (impedance_1hz - np.mean(impedance_1hz)) / np.std(impedance_1hz)"
   ]
  },
  {
   "cell_type": "code",
   "execution_count": 42,
   "metadata": {},
   "outputs": [],
   "source": [
    "smoothed_signal = gaussian_filter1d(normalized_signal, sigma=2)"
   ]
  },
  {
   "cell_type": "code",
   "execution_count": 44,
   "metadata": {},
   "outputs": [
    {
     "data": {
      "image/png": "[encoded data removed]",
      "text/plain": [
       "<Figure size 640x480 with 1 Axes>"
      ]
     },
     "metadata": {},
     "output_type": "display_data"
    }
   ],
   "source": [
    "plt.plot(smoothed_signal)\n",
    "plt.title(\"EIT Impedance Waveform\")\n",
    "plt.xlabel(\"Time(s)\")\n",
    "plt.ylabel(\"ΔZ (A.U.)\")\n",
    "plt.grid(True)\n",
    "plt.show()"
   ]
  },
  {
   "cell_type": "markdown",
   "metadata": {},
   "source": [
    "## Lung Similarity Study"
   ]
  },
  {
   "cell_type": "markdown",
   "metadata": {},
   "source": [
    "Peak and Troughs Detection"
   ]
  },
  {
   "cell_type": "code",
   "execution_count": 45,
   "metadata": {},
   "outputs": [
    {
     "data": {
      "text/plain": [
       "array([ 5, 15])"
      ]
     },
     "execution_count": 45,
     "metadata": {},
     "output_type": "execute_result"
    }
   ],
   "source": [
    "# Peaks represent Experation\n",
    "expiration_time=scipy.signal.find_peaks(smoothed_signal)[0]\n",
    "expiration_time\n"
   ]
  },
  {
   "cell_type": "code",
   "execution_count": 46,
   "metadata": {},
   "outputs": [
    {
     "data": {
      "text/plain": [
       "array([12, 19])"
      ]
     },
     "execution_count": 46,
     "metadata": {},
     "output_type": "execute_result"
    }
   ],
   "source": [
    "# Throughs represent Inspiration\n",
    "inspiration_time=scipy.signal.find_peaks(-smoothed_signal)[0]\n",
    "inspiration_time"
   ]
  },
  {
   "cell_type": "markdown",
   "metadata": {},
   "source": [
    "Select Correct Frames"
   ]
  },
  {
   "cell_type": "code",
   "execution_count": 47,
   "metadata": {},
   "outputs": [
    {
     "data": {
      "text/plain": [
       "array([165, 495])"
      ]
     },
     "execution_count": 47,
     "metadata": {},
     "output_type": "execute_result"
    }
   ],
   "source": [
    "# Calculate which frames correspond to experation\n",
    "expiration_frames=expiration_time*33\n",
    "expiration_frames"
   ]
  },
  {
   "cell_type": "code",
   "execution_count": 48,
   "metadata": {},
   "outputs": [
    {
     "data": {
      "text/plain": [
       "array([396, 627])"
      ]
     },
     "execution_count": 48,
     "metadata": {},
     "output_type": "execute_result"
    }
   ],
   "source": [
    "# Calculate which frames correspond to experation\n",
    "inspiration_frames=inspiration_time*33\n",
    "inspiration_frames"
   ]
  },
  {
   "cell_type": "markdown",
   "metadata": {},
   "source": [
    "Calculate impedance values in the given frames"
   ]
  },
  {
   "cell_type": "code",
   "execution_count": 52,
   "metadata": {},
   "outputs": [
    {
     "data": {
      "text/plain": [
       "np.float64(0.5692663078978342)"
      ]
     },
     "execution_count": 52,
     "metadata": {},
     "output_type": "execute_result"
    }
   ],
   "source": [
    "diff_expiration=np.zeros(len(expiration_frames))\n",
    "\n",
    "i=0\n",
    "\n",
    "for frame in expiration_frames:\n",
    "\n",
    "    image = Image.open(image_files[frame])\n",
    "    image_np = np.array(image)\n",
    "\n",
    "    studied_frame_right=image_np[int(r_right[1]):int(r_right[1]+r_right[3]),int(r_right[0]):int(r_right[0]+r[2])] \n",
    "    studied_frame_left=image_np[int(r_left[1]):int(r_left[1]+r_left[3]),int(r_left[0]):int(r_left[0]+r_left[2])] \n",
    "\n",
    "    hsv_right = cv2.cvtColor(studied_frame_right, cv2.COLOR_BGR2HSV)\n",
    "    intensity_right = hsv_right[:, :, 2] \n",
    "    hsv_left = cv2.cvtColor(studied_frame_left, cv2.COLOR_BGR2HSV)\n",
    "    intensity_left = hsv_left[:, :, 2] \n",
    "\n",
    "    mean_intensity_right = np.mean(valid_pixels_right)\n",
    "    mean_intensity_left = np.mean(valid_pixels_left)\n",
    "\n",
    "    diff_expiration[i]=abs(mean_intensity_right-mean_intensity_left)\n",
    "\n",
    "    i+=1\n",
    "\n",
    "media=sum(diff_expiration)/len(diff_expiration) \n",
    "media"
   ]
  },
  {
   "cell_type": "code",
   "execution_count": 51,
   "metadata": {},
   "outputs": [
    {
     "data": {
      "text/plain": [
       "np.float64(0.5692663078978342)"
      ]
     },
     "execution_count": 51,
     "metadata": {},
     "output_type": "execute_result"
    }
   ],
   "source": [
    "diff_inspiration=np.zeros(len(inspiration_frames))\n",
    "\n",
    "i=0\n",
    "\n",
    "for frame in inspiration_frames:\n",
    "\n",
    "    image = Image.open(image_files[frame])\n",
    "    image_np = np.array(image)\n",
    "\n",
    "    studied_frame_right=image_np[int(r_right[1]):int(r_right[1]+r_right[3]),int(r_right[0]):int(r_right[0]+r[2])] \n",
    "    studied_frame_left=image_np[int(r_left[1]):int(r_left[1]+r_left[3]),int(r_left[0]):int(r_left[0]+r_left[2])] \n",
    "\n",
    "    hsv_right = cv2.cvtColor(studied_frame_right, cv2.COLOR_BGR2HSV)\n",
    "    intensity_right = hsv_right[:, :, 2] \n",
    "    hsv_left = cv2.cvtColor(studied_frame_left, cv2.COLOR_BGR2HSV)\n",
    "    intensity_left = hsv_left[:, :, 2] \n",
    "\n",
    "    mean_intensity_right = np.mean(valid_pixels_right)\n",
    "    mean_intensity_left = np.mean(valid_pixels_left)\n",
    "\n",
    "    diff_inspiration[i]=abs(mean_intensity_right-mean_intensity_left)\n",
    "\n",
    "    i+=1\n",
    "\n",
    "media=sum(diff_inspiration)/len(diff_inspiration) \n",
    "media"
   ]
  },
  {
   "cell_type": "markdown",
   "metadata": {},
   "source": [
    "If the median difference is close to 0, both lungs are likely ventilating symmetrically during expiration.\n",
    "\n",
    "A positive median suggests that one lung (e.g., left) shows consistently higher ΔZ, implying greater volume loss or air content — potentially better ventilation.\n",
    "\n",
    "A negative median implies the opposite — possibly reduced ventilation on that side."
   ]
  }
 ],
 "metadata": {
  "kernelspec": {
   "display_name": "ICSTSenv",
   "language": "python",
   "name": "python3"
  },
  "language_info": {
   "codemirror_mode": {
    "name": "ipython",
    "version": 3
   },
   "file_extension": ".py",
   "mimetype": "text/x-python",
   "name": "python",
   "nbconvert_exporter": "python",
   "pygments_lexer": "ipython3",
   "version": "3.9.21"
  }
 },
 "nbformat": 4,
 "nbformat_minor": 2
}
